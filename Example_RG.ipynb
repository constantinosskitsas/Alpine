{
 "cells": [
  {
   "cell_type": "code",
   "execution_count": 31,
   "metadata": {},
   "outputs": [],
   "source": [
    "from help_functions import read_real_graph, read_list\n",
    "import numpy as np \n",
    "from pred import Alpine"
   ]
  },
  {
   "cell_type": "code",
   "execution_count": 32,
   "metadata": {},
   "outputs": [],
   "source": [
    "def printR(name,dataset,forb_norm,accuracy,spec_norm,time_diff,isomorphic=False):\n",
    "    print('---- ',name, '----')\n",
    "    print('---- ',dataset, '----')\n",
    "    print('----> Forb_norm:', forb_norm)\n",
    "    print('----> Accuracy:', accuracy)\n",
    "    print('----> Time:', time_diff)\n",
    "    print() "
   ]
  },
  {
   "cell_type": "code",
   "execution_count": 33,
   "metadata": {},
   "outputs": [],
   "source": [
    "foldernames=[\"dblp\",\"facebook\",\"tw\"]\n",
    "\n",
    "n_G=[9916,4039,1043]\n",
    "n_G1=[9872,1034,1000]\n",
    "GT=[1265,1034,1000]"
   ]
  },
  {
   "cell_type": "markdown",
   "metadata": {},
   "source": [
    "Read Graphs and Ground Truth\n",
    "choose k= 1,2,3 for  one of the three datasets. The first example will evaluate dblp dataset, k=1"
   ]
  },
  {
   "cell_type": "code",
   "execution_count": 34,
   "metadata": {},
   "outputs": [
    {
     "name": "stdout",
     "output_type": "stream",
     "text": [
      "Making ./raw_data/dblp.txt graph...\n",
      "Done ./raw_data/dblp.txt Peter...\n",
      "Making ./data3_/dblp/10/0/subgraph.txt graph...\n",
      "Done ./data3_/dblp/10/0/subgraph.txt Peter...\n"
     ]
    },
    {
     "name": "stderr",
     "output_type": "stream",
     "text": [
      "/home/konstantinos/miniconda3/lib/python3.8/site-packages/numpy/core/fromnumeric.py:3419: RuntimeWarning: Mean of empty slice.\n",
      "  return _methods._mean(a, axis=axis, dtype=dtype,\n",
      "/home/konstantinos/miniconda3/lib/python3.8/site-packages/numpy/core/_methods.py:188: RuntimeWarning: invalid value encountered in double_scalars\n",
      "  ret = ret.dtype.type(ret / rcount)\n",
      "/home/konstantinos/Alpine/sinkhorn.py:344: UserWarning: An output with one or more elements was resized since it had shape [9916], which does not match the required output shape [1, 9916]. This behavior is deprecated, and in a future PyTorch release outputs will not be resized unless they have zero elements. You can explicitly reuse an out tensor t by resizing it, inplace, to zero elements with t.resize_(0). (Triggered internally at /opt/conda/conda-bld/pytorch_1708025567258/work/aten/src/ATen/native/Resize.cpp:28.)\n",
      "  torch.matmul(u, K, out=KTu)\n"
     ]
    }
   ],
   "source": [
    "k=0\n",
    "G = read_real_graph(n = n_G[k], name_ = f'./raw_data/{foldernames[k]}.txt')\n",
    "G_Q= read_real_graph(n = n_G1[k], name_ = f'./data3_/{foldernames[k]}/10/0/subgraph.txt')\n",
    "file_nodes = f'./data3_/{foldernames[k]}/10/0/nodes.txt'\n",
    "Q_real = read_list(file_nodes)\n",
    "dataset_name=foldernames[k]\n",
    "_, list_of_nodes, forb_norm = Alpine(G_Q.copy(), G.copy(),mu=1,weight=2)"
   ]
  },
  {
   "cell_type": "code",
   "execution_count": 37,
   "metadata": {},
   "outputs": [
    {
     "name": "stdout",
     "output_type": "stream",
     "text": [
      "----  Alpine ----\n",
      "----  dblp ----\n",
      "----> Forb_norm: 57506.0\n",
      "----> Accuracy: 0.45138339920948617\n",
      "----> Time: 0\n",
      "\n"
     ]
    }
   ],
   "source": [
    "accuracy = np.sum(np.array(Q_real)==np.array(list_of_nodes))/GT[k]\n",
    "printR(\"Alpine\",dataset_name,forb_norm,accuracy,0,0)  \n"
   ]
  },
  {
   "cell_type": "markdown",
   "metadata": {},
   "source": [
    "Run Alpine. mu is the weight of the LAP suplement, which is always 1 except from the Facebook dataset where its density causes errors in sinkhorn.\n",
    "  In this case,  for Facebook experiment k=2 we use mu=0.1 "
   ]
  },
  {
   "cell_type": "code",
   "execution_count": 38,
   "metadata": {},
   "outputs": [
    {
     "name": "stdout",
     "output_type": "stream",
     "text": [
      "Making ./raw_data/facebook.txt graph...\n",
      "Done ./raw_data/facebook.txt Peter...\n",
      "Making ./data3_/facebook/10/0/subgraph.txt graph...\n",
      "Done ./data3_/facebook/10/0/subgraph.txt Peter...\n"
     ]
    },
    {
     "name": "stderr",
     "output_type": "stream",
     "text": [
      "/home/konstantinos/miniconda3/lib/python3.8/site-packages/numpy/core/fromnumeric.py:3419: RuntimeWarning: Mean of empty slice.\n",
      "  return _methods._mean(a, axis=axis, dtype=dtype,\n",
      "/home/konstantinos/miniconda3/lib/python3.8/site-packages/numpy/core/_methods.py:188: RuntimeWarning: invalid value encountered in double_scalars\n",
      "  ret = ret.dtype.type(ret / rcount)\n",
      "/home/konstantinos/Alpine/sinkhorn.py:344: UserWarning: An output with one or more elements was resized since it had shape [4039], which does not match the required output shape [1, 4039]. This behavior is deprecated, and in a future PyTorch release outputs will not be resized unless they have zero elements. You can explicitly reuse an out tensor t by resizing it, inplace, to zero elements with t.resize_(0). (Triggered internally at /opt/conda/conda-bld/pytorch_1708025567258/work/aten/src/ATen/native/Resize.cpp:28.)\n",
      "  torch.matmul(u, K, out=KTu)\n"
     ]
    }
   ],
   "source": [
    "k=1\n",
    "G = read_real_graph(n = n_G[k], name_ = f'./raw_data/{foldernames[k]}.txt')\n",
    "G_Q= read_real_graph(n = n_G1[k], name_ = f'./data3_/{foldernames[k]}/10/0/subgraph.txt')\n",
    "file_nodes = f'./data3_/{foldernames[k]}/10/0/nodes.txt'\n",
    "Q_real = read_list(file_nodes)\n",
    "dataset_name=foldernames[k]\n",
    "_, list_of_nodes, forb_norm = Alpine(G_Q.copy(), G.copy(),mu=0.1,weight=2)"
   ]
  },
  {
   "cell_type": "code",
   "execution_count": 39,
   "metadata": {},
   "outputs": [
    {
     "name": "stdout",
     "output_type": "stream",
     "text": [
      "----  Alpine ----\n",
      "----  facebook ----\n",
      "----> Forb_norm: 294.99999999999994\n",
      "----> Accuracy: 0.9458413926499033\n",
      "----> Time: 0\n",
      "\n"
     ]
    }
   ],
   "source": [
    "accuracy = np.sum(np.array(Q_real)==np.array(list_of_nodes))/GT[k]\n",
    "printR(\"Alpine\",dataset_name,forb_norm,accuracy,0,0)  "
   ]
  },
  {
   "cell_type": "code",
   "execution_count": 40,
   "metadata": {},
   "outputs": [
    {
     "name": "stdout",
     "output_type": "stream",
     "text": [
      "Making ./raw_data/tw.txt graph...\n",
      "Done ./raw_data/tw.txt Peter...\n",
      "Making ./data3_/tw/10/0/subgraph.txt graph...\n",
      "Done ./data3_/tw/10/0/subgraph.txt Peter...\n"
     ]
    },
    {
     "name": "stderr",
     "output_type": "stream",
     "text": [
      "/home/konstantinos/miniconda3/lib/python3.8/site-packages/numpy/core/fromnumeric.py:3419: RuntimeWarning: Mean of empty slice.\n",
      "  return _methods._mean(a, axis=axis, dtype=dtype,\n",
      "/home/konstantinos/miniconda3/lib/python3.8/site-packages/numpy/core/_methods.py:188: RuntimeWarning: invalid value encountered in double_scalars\n",
      "  ret = ret.dtype.type(ret / rcount)\n",
      "/home/konstantinos/Alpine/sinkhorn.py:344: UserWarning: An output with one or more elements was resized since it had shape [1043], which does not match the required output shape [1, 1043]. This behavior is deprecated, and in a future PyTorch release outputs will not be resized unless they have zero elements. You can explicitly reuse an out tensor t by resizing it, inplace, to zero elements with t.resize_(0). (Triggered internally at /opt/conda/conda-bld/pytorch_1708025567258/work/aten/src/ATen/native/Resize.cpp:28.)\n",
      "  torch.matmul(u, K, out=KTu)\n"
     ]
    }
   ],
   "source": [
    "k=2\n",
    "G = read_real_graph(n = n_G[k], name_ = f'./raw_data/{foldernames[k]}.txt')\n",
    "G_Q= read_real_graph(n = n_G1[k], name_ = f'./data3_/{foldernames[k]}/10/0/subgraph.txt')\n",
    "file_nodes = f'./data3_/{foldernames[k]}/10/0/nodes.txt'\n",
    "Q_real = read_list(file_nodes)\n",
    "dataset_name=foldernames[k]\n",
    "\n",
    "_, list_of_nodes, forb_norm = Alpine(G_Q.copy(), G.copy(),mu=1,weight=2)"
   ]
  },
  {
   "cell_type": "code",
   "execution_count": 41,
   "metadata": {},
   "outputs": [
    {
     "name": "stdout",
     "output_type": "stream",
     "text": [
      "----  Alpine ----\n",
      "----  tw ----\n",
      "----> Forb_norm: 2102.0000000000005\n",
      "----> Accuracy: 0.973\n",
      "----> Time: 0\n",
      "\n"
     ]
    }
   ],
   "source": [
    "accuracy = np.sum(np.array(Q_real)==np.array(list_of_nodes))/len(Q_real)\n",
    "printR(\"Alpine\",dataset_name,forb_norm,accuracy,0,0)  "
   ]
  }
 ],
 "metadata": {
  "kernelspec": {
   "display_name": "Python (mypython)",
   "language": "python",
   "name": "mypython"
  },
  "language_info": {
   "codemirror_mode": {
    "name": "ipython",
    "version": 3
   },
   "file_extension": ".py",
   "mimetype": "text/x-python",
   "name": "python",
   "nbconvert_exporter": "python",
   "pygments_lexer": "ipython3",
   "version": "3.8.18"
  }
 },
 "nbformat": 4,
 "nbformat_minor": 2
}
